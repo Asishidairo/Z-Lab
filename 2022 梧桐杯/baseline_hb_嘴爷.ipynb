{
 "cells": [
  {
   "cell_type": "code",
   "execution_count": 14,
   "metadata": {},
   "outputs": [
    {
     "name": "stdout",
     "output_type": "stream",
     "text": [
      "Archive:  ../input/wutong/数智城市（湖北赛区）/WTB_HB_toUserA.zip\n",
      "   creating: ../output/WTB_HB_A/toUserA/\n",
      "  inflating: ../output/WTB_HB_A/toUserA/testa_nolabel.csv  \n",
      "  inflating: ../output/WTB_HB_A/toUserA/train.csv  \n",
      "  inflating: ../output/WTB_HB_A/toUserA/submita.csv  \n"
     ]
    }
   ],
   "source": [
    "# !unzip ../input/wutong/数智城市（湖北赛区）/WTB_HB_toUserA.zip -d ../output/WTB_HB_A/"
   ]
  },
  {
   "cell_type": "code",
   "execution_count": 1,
   "metadata": {},
   "outputs": [
    {
     "data": {
      "text/html": [
       "<style type='text/css'>\n",
       ".datatable table.frame { margin-bottom: 0; }\n",
       ".datatable table.frame thead { border-bottom: none; }\n",
       ".datatable table.frame tr.coltypes td {  color: #FFFFFF;  line-height: 6px;  padding: 0 0.5em;}\n",
       ".datatable .bool    { background: #DDDD99; }\n",
       ".datatable .object  { background: #565656; }\n",
       ".datatable .int     { background: #5D9E5D; }\n",
       ".datatable .float   { background: #4040CC; }\n",
       ".datatable .str     { background: #CC4040; }\n",
       ".datatable .row_index {  background: var(--jp-border-color3);  border-right: 1px solid var(--jp-border-color0);  color: var(--jp-ui-font-color3);  font-size: 9px;}\n",
       ".datatable .frame tr.coltypes .row_index {  background: var(--jp-border-color0);}\n",
       ".datatable th:nth-child(2) { padding-left: 12px; }\n",
       ".datatable .hellipsis {  color: var(--jp-cell-editor-border-color);}\n",
       ".datatable .vellipsis {  background: var(--jp-layout-color0);  color: var(--jp-cell-editor-border-color);}\n",
       ".datatable .na {  color: var(--jp-cell-editor-border-color);  font-size: 80%;}\n",
       ".datatable .footer { font-size: 9px; }\n",
       ".datatable .frame_dimensions {  background: var(--jp-border-color3);  border-top: 1px solid var(--jp-border-color0);  color: var(--jp-ui-font-color3);  display: inline-block;  opacity: 0.6;  padding: 1px 10px 1px 5px;}\n",
       "</style>\n"
      ],
      "text/plain": [
       "<IPython.core.display.HTML object>"
      ]
     },
     "metadata": {},
     "output_type": "display_data"
    }
   ],
   "source": [
    "import pandas as pd\n",
    "import numpy as np\n",
    "import lightgbm as lgb\n",
    "import time\n",
    "from sklearn.preprocessing import LabelEncoder\n",
    "from sklearn.metrics import roc_auc_score as auc\n",
    "from sklearn.model_selection import StratifiedKFold"
   ]
  },
  {
   "cell_type": "code",
   "execution_count": 2,
   "metadata": {},
   "outputs": [],
   "source": [
    "path = '../output/WTB_HB_A/toUserA/'\n",
    "LABEL = 'LABEL'"
   ]
  },
  {
   "cell_type": "code",
   "execution_count": 3,
   "metadata": {},
   "outputs": [],
   "source": [
    "raw_df_train = pd.read_csv(path+'train.csv')\n",
    "raw_df_test = pd.read_csv(path+'testa_nolabel.csv')"
   ]
  },
  {
   "cell_type": "code",
   "execution_count": 4,
   "metadata": {},
   "outputs": [],
   "source": [
    "df_all = pd.concat([raw_df_train, raw_df_test])"
   ]
  },
  {
   "cell_type": "code",
   "execution_count": 5,
   "metadata": {},
   "outputs": [
    {
     "name": "stdout",
     "output_type": "stream",
     "text": [
      "CITY_ID\n",
      "COUNTY_NAME\n",
      "IMEI_SCENE_NAME\n",
      "ADD_MYXZ_SCENE_NAME\n",
      "ADD_MYXZ_TIME\n",
      "RM_MYXZ_SCENE_NAME\n",
      "RM_MYXZ_TIME\n"
     ]
    }
   ],
   "source": [
    "for feat in df_all.columns[:-1]:\n",
    "    if df_all[feat].dtype == object:\n",
    "        df_all[feat] = df_all[feat].astype('str')\n",
    "        print(feat)\n",
    "        le = LabelEncoder()\n",
    "        df_all[feat] = le.fit_transform(df_all[feat])"
   ]
  },
  {
   "cell_type": "code",
   "execution_count": 6,
   "metadata": {},
   "outputs": [],
   "source": [
    "df_train = df_all[df_all[LABEL].notna()]\n",
    "df_test = df_all[df_all[LABEL].isna()]"
   ]
  },
  {
   "cell_type": "code",
   "execution_count": 7,
   "metadata": {},
   "outputs": [],
   "source": [
    "feats = [f for f in df_train.columns if f not in [LABEL, 'USER_ID']]"
   ]
  },
  {
   "cell_type": "code",
   "execution_count": 8,
   "metadata": {},
   "outputs": [
    {
     "name": "stdout",
     "output_type": "stream",
     "text": [
      "----------- 0\n",
      "Training until validation scores don't improve for 100 rounds\n"
     ]
    },
    {
     "name": "stderr",
     "output_type": "stream",
     "text": [
      "/usr/local/lib/python3.7/dist-packages/lightgbm/engine.py:181: UserWarning: 'early_stopping_rounds' argument is deprecated and will be removed in a future release of LightGBM. Pass 'early_stopping()' callback via 'callbacks' argument instead.\n",
      "  _log_warning(\"'early_stopping_rounds' argument is deprecated and will be removed in a future release of LightGBM. \"\n",
      "/usr/local/lib/python3.7/dist-packages/lightgbm/engine.py:239: UserWarning: 'verbose_eval' argument is deprecated and will be removed in a future release of LightGBM. Pass 'log_evaluation()' callback via 'callbacks' argument instead.\n",
      "  _log_warning(\"'verbose_eval' argument is deprecated and will be removed in a future release of LightGBM. \"\n"
     ]
    },
    {
     "name": "stdout",
     "output_type": "stream",
     "text": [
      "[200]\tvalid_0's auc: 0.922882\n",
      "Early stopping, best iteration is:\n",
      "[216]\tvalid_0's auc: 0.925343\n",
      "----------- 1\n",
      "Training until validation scores don't improve for 100 rounds\n",
      "[200]\tvalid_0's auc: 0.90998\n",
      "Early stopping, best iteration is:\n",
      "[196]\tvalid_0's auc: 0.910825\n",
      "----------- 2\n",
      "Training until validation scores don't improve for 100 rounds\n",
      "Early stopping, best iteration is:\n",
      "[56]\tvalid_0's auc: 0.912228\n",
      "----------- 3\n",
      "Training until validation scores don't improve for 100 rounds\n",
      "[200]\tvalid_0's auc: 0.929279\n",
      "Early stopping, best iteration is:\n",
      "[216]\tvalid_0's auc: 0.930649\n",
      "----------- 4\n",
      "Training until validation scores don't improve for 100 rounds\n",
      "Early stopping, best iteration is:\n",
      "[90]\tvalid_0's auc: 0.941594\n",
      "AUC...  0.9072090527451737\n"
     ]
    }
   ],
   "source": [
    "params = {\n",
    "\n",
    "    'learning_rate': 0.05,\n",
    "    'boosting_type': 'gbdt',\n",
    "    'objective': 'binary',\n",
    "    'metric': 'auc',\n",
    "    'verbose': -1,\n",
    "    'seed': 2222,\n",
    "    'n_jobs': 4,\n",
    "}\n",
    "\n",
    "fold_num = 5\n",
    "seeds = [2222]\n",
    "oof = np.zeros(len(df_train))\n",
    "importance = 0\n",
    "pred_y = pd.DataFrame()\n",
    "for seed in seeds:\n",
    "    kf = StratifiedKFold(n_splits=fold_num, shuffle=True, random_state=seed)\n",
    "    for fold, (train_idx, val_idx) in enumerate(kf.split(df_train[feats], df_train[LABEL])):\n",
    "        print('-----------', fold)\n",
    "        train = lgb.Dataset(df_train.loc[train_idx, feats],\n",
    "                            df_train.loc[train_idx, LABEL])\n",
    "        val = lgb.Dataset(df_train.loc[val_idx, feats],\n",
    "                          df_train.loc[val_idx, LABEL])\n",
    "        model = lgb.train(params, train, valid_sets=val, num_boost_round=10000,\n",
    "                          early_stopping_rounds=100, verbose_eval=200)\n",
    "        \n",
    "        oof[val_idx] += model.predict(df_train.loc[val_idx, feats]) / len(seeds)\n",
    "        pred_y['fold_%d_seed_%d' % (fold, seed)] = model.predict(df_test[feats])\n",
    "        importance += model.feature_importance(importance_type='gain') / fold_num\n",
    "print('AUC... ',auc(df_train[LABEL], oof))"
   ]
  },
  {
   "cell_type": "code",
   "execution_count": 9,
   "metadata": {},
   "outputs": [
    {
     "name": "stdout",
     "output_type": "stream",
     "text": [
      "                        name    importance\n",
      "14            OPP_REGION_NUM  12124.609617\n",
      "46             ADD_MYXZ_TIME   5624.063046\n",
      "2              ONNET_DAY_NUM   3447.875312\n",
      "3                CALLING_NUM   1997.930123\n",
      "22         PHONE_NO_IMEI_NUM   1890.482660\n",
      "10           GPRS_TOTAL_FLOW   1420.327210\n",
      "1                COUNTY_NAME   1317.132522\n",
      "18     CALLED_DIVIDE_CALLING   1296.898766\n",
      "4                 CALLED_NUM   1032.240661\n",
      "12           CALLED_USER_NUM    953.671941\n",
      "15      FIRST_CALL_AREA_CODE    927.068591\n",
      "50             USER_CRDT_LVL    770.637413\n",
      "41           IMEI_SCENE_NAME    721.105718\n",
      "0                    CITY_ID    655.961363\n",
      "48              RM_MYXZ_TIME    618.567001\n",
      "17                DISPERSION    601.490886\n",
      "42             IS_BLACK_CERT    597.123131\n",
      "11          CALLING_USER_NUM    533.314123\n",
      "13                LAC_CI_NUM    528.840554\n",
      "20         CERT_PHONE_NO_NUM    442.010233\n",
      "9        VPMN_INNER_CALL_NUM    404.136497\n",
      "8     ROAM_PROVIN_CALLED_NUM    318.581171\n",
      "49                   IS_YJCZ    308.976928\n",
      "45       ADD_MYXZ_SCENE_NAME    278.398259\n",
      "40             IS_BLACK_IMEI    262.345699\n",
      "19              MAIN_NO_FLAG    259.123661\n",
      "21         IMEI_PHONE_NO_NUM    241.340074\n",
      "27                IS_KD_USER    183.777289\n",
      "7    ROAM_PROVIN_CALLING_NUM    162.171370\n",
      "5   ROAM_PROVOUT_CALLING_NUM    153.815979\n"
     ]
    }
   ],
   "source": [
    "feats_importance = pd.DataFrame()\n",
    "feats_importance['name'] = feats\n",
    "feats_importance['importance'] = importance\n",
    "print(feats_importance.sort_values('importance', ascending=False)[:30])"
   ]
  },
  {
   "cell_type": "code",
   "execution_count": 10,
   "metadata": {},
   "outputs": [
    {
     "name": "stderr",
     "output_type": "stream",
     "text": [
      "/usr/local/lib/python3.7/dist-packages/pandas/core/frame.py:3607: SettingWithCopyWarning: \n",
      "A value is trying to be set on a copy of a slice from a DataFrame.\n",
      "Try using .loc[row_indexer,col_indexer] = value instead\n",
      "\n",
      "See the caveats in the documentation: https://pandas.pydata.org/pandas-docs/stable/user_guide/indexing.html#returning-a-view-versus-a-copy\n",
      "  self._set_item(key, value)\n"
     ]
    }
   ],
   "source": [
    "# pred_y = pred_y #.map(lambda x: 1 if x > thre else 0)\n",
    "df_test[LABEL] = pred_y.mean(axis=1)\n",
    "tmp = df_test.sort_values(by=LABEL, ascending=False)\n",
    "\n",
    "submit = tmp[:255]\n",
    "\n",
    "submit[['USER_ID']].to_csv('../output/WTB_HB_A/ansA/lgb_baseline.csv', index=False)"
   ]
  },
  {
   "cell_type": "code",
   "execution_count": 23,
   "metadata": {},
   "outputs": [
    {
     "name": "stdout",
     "output_type": "stream",
     "text": [
      "\n",
      "\n",
      "     ▄████▄  ▄▄▄       ██████▄▄▄█████▓██▓   ▓█████ \n",
      "    ▒██▀ ▀█ ▒████▄   ▒██    ▒▓  ██▒ ▓▓██▒   ▓█   ▀ \n",
      "    ▒▓█    ▄▒██  ▀█▄ ░ ▓██▄  ▒ ▓██░ ▒▒██░   ▒███   \n",
      "    ▒▓▓▄ ▄██░██▄▄▄▄██  ▒   ██░ ▓██▓ ░▒██░   ▒▓█  ▄ \n",
      "    ▒ ▓███▀ ░▓█   ▓██▒██████▒▒ ▒██▒ ░░██████░▒████▒\n",
      "    ░ ░▒ ▒  ░▒▒   ▓▒█▒ ▒▓▒ ▒ ░ ▒ ░░  ░ ▒░▓  ░░ ▒░ ░\n",
      "      ░  ▒    ▒   ▒▒ ░ ░▒  ░ ░   ░   ░ ░ ▒  ░░ ░  ░\n",
      "    ░         ░   ▒  ░  ░  ░   ░       ░ ░     ░   \n",
      "    ░ ░           ░  ░     ░             ░  ░  ░  ░\n",
      "    ░                                              \n",
      "\n",
      "    \n",
      "〔 版本状态 〕 v0.14 \n",
      "〔 校验权限 〕 有效 \n",
      "〔 竞赛信息 〕 第二届中国移动“梧桐杯”大数据应用创新大赛 - 数智城市（湖北赛区） \n",
      "〔 用户信息 〕 嘴爷 \n",
      "〔 提交备注 〕  \n",
      "〔 文件分段 〕 [1]段 \n",
      "〔 上传进度 〕 [##################################################]100%        1/1\n",
      "〔 资源标识 〕 0000018004936C8B85D31E11B1D18D32 \n",
      "〔 提交状态 〕 成功 \n",
      "\n"
     ]
    }
   ],
   "source": [
    "!castlecli --third local --token xxxxx(自己的token) --source ../output/WTB_HB_A/ansA/lgb_baseline.csv"
   ]
  }
 ],
 "metadata": {
  "kernelspec": {
   "display_name": "Python 3",
   "language": "python",
   "name": "python3"
  },
  "language_info": {
   "codemirror_mode": {
    "name": "ipython",
    "version": 3
   },
   "file_extension": ".py",
   "mimetype": "text/x-python",
   "name": "python",
   "nbconvert_exporter": "python",
   "pygments_lexer": "ipython3",
   "version": "3.7.5"
  }
 },
 "nbformat": 4,
 "nbformat_minor": 4
}
